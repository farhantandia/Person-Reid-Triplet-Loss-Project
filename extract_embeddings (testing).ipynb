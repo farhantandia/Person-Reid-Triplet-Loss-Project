{
 "cells": [
  {
   "cell_type": "code",
   "execution_count": 41,
   "metadata": {},
   "outputs": [],
   "source": [
    "\n",
    "from imutils import paths\n",
    "import numpy as np\n",
    "import argparse\n",
    "import imutils\n",
    "import pickle\n",
    "import cv2\n",
    "import os"
   ]
  },
  {
   "cell_type": "code",
   "execution_count": 42,
   "metadata": {},
   "outputs": [],
   "source": [
    "from tensorflow.keras.preprocessing import image\n",
    "import tensorflow_addons as tfa\n",
    "from tensorflow.keras.models import load_model\n",
    "from keras.applications.vgg16 import preprocess_input\n",
    "from tensorflow.keras.preprocessing.image import ImageDataGenerator"
   ]
  },
  {
   "cell_type": "code",
   "execution_count": 82,
   "metadata": {},
   "outputs": [
    {
     "name": "stdout",
     "output_type": "stream",
     "text": [
      "total id1: 319\n",
      "total id2 : 325\n",
      "total id3 : 330\n",
      "total id4 : 318\n",
      "total id5 : 330\n",
      "total id6 : 330\n",
      "total id7 : 321\n",
      "total id8 : 284\n",
      "2557\n",
      "Found 2048 images belonging to 8 classes.\n",
      "Found 509 images belonging to 8 classes.\n"
     ]
    }
   ],
   "source": [
    "import tensorflow_addons as tfa\n",
    "from tensorflow.keras.optimizers import Adam, Nadam, Adadelta,SGD\n",
    "import os\n",
    "\n",
    "# base_dir = 'data/'\n",
    "\n",
    "# id1= len(os.listdir(base_dir+'/0'))\n",
    "# id2 = len(os.listdir(base_dir+'/1'))\n",
    "# id3 = len(os.listdir(base_dir+'/2'))\n",
    "# id4 = len(os.listdir(base_dir+'/3'))\n",
    "# id5 = len(os.listdir(base_dir+'/4'))\n",
    "# id6 = len(os.listdir(base_dir+'/5'))\n",
    "# id7=len(os.listdir(base_dir+'/6'))\n",
    "# id8=len(os.listdir(base_dir+'/7'))\n",
    "\n",
    "# print('total id1:', id1)\n",
    "# print('total id2 :',id2)\n",
    "# print('total id3 :', id3)\n",
    "# print('total id4 :', id4)\n",
    "# print('total id5 :', id5)\n",
    "# print('total id6 :', id6)\n",
    "# print('total id7 :', id7)\n",
    "# print('total id8 :', id8)\n",
    "\n",
    "# total_data = id1+id2+id3+id4+id5+id6+id7+id8\n",
    "# print(total_data)\n",
    "\n",
    "\n",
    "# # The data, split between train and test sets\n",
    "# datagen = ImageDataGenerator(\n",
    "# #             rotation_range=45,\n",
    "# #             horizontal_flip=True,\n",
    "# #             vertical_flip=True,\n",
    "# #             rescale=1/255, \n",
    "# #             zoom_range=1.2,\n",
    "#             validation_split=0.2) #Dataset dibagi menjadi 75% train set dan 25% validation set.\n",
    "\n",
    "# train_generator = datagen.flow_from_directory(\n",
    "#     base_dir,\n",
    "#     target_size=(180, 80),\n",
    "#     batch_size=2557,\n",
    "#     class_mode='binary',\n",
    "#     subset='training'\n",
    "# )\n",
    "\n",
    "# validation_generator = datagen.flow_from_directory(\n",
    "#     base_dir,\n",
    "#     target_size=(180, 80),\n",
    "#     batch_size=2557,\n",
    "#     class_mode='binary',\n",
    "#     subset='validation'\n",
    "# )"
   ]
  },
  {
   "cell_type": "code",
   "execution_count": 135,
   "metadata": {},
   "outputs": [],
   "source": [
    "# x_train, y_train = next(train_generator)\n",
    "# x_test, y_test = next(validation_generator)\n",
    "# x_train = x_train.astype('float32')\n",
    "# x_test = x_test.astype('float32')\n",
    "# y_train = y_train.astype('uint8')\n",
    "# y_test = y_test.astype('uint8')\n",
    "# # x_train /= 255.\n",
    "# # x_test /= 255.\n",
    "# input_image_shape = (x_train.shape[1], x_train.shape[2], 3)\n",
    "# x_val = x_test\n",
    "# y_val = y_test"
   ]
  },
  {
   "cell_type": "code",
   "execution_count": null,
   "metadata": {},
   "outputs": [],
   "source": [
    "# embedding_size=128\n",
    "# model = create_model((180,80,3),embedding_size)\n",
    "# model.compile(loss=tfa.losses.triplet_semihard_loss, optimizer=Adam(0.001))\n",
    "\n",
    "\n",
    "# img_data = preprocess_input(img_data)"
   ]
  },
  {
   "cell_type": "markdown",
   "metadata": {},
   "source": [
    "# TESTING"
   ]
  },
  {
   "cell_type": "code",
   "execution_count": 52,
   "metadata": {},
   "outputs": [
    {
     "data": {
      "text/plain": [
       "(64, 180, 80, 3)"
      ]
     },
     "execution_count": 52,
     "metadata": {},
     "output_type": "execute_result"
    }
   ],
   "source": [
    "x_val.shape"
   ]
  },
  {
   "cell_type": "code",
   "execution_count": 3,
   "metadata": {
    "scrolled": true
   },
   "outputs": [],
   "source": [
    "from sklearn.svm import SVC\n",
    "from tensorflow.keras.preprocessing import image\n",
    "import tensorflow_addons as tfa\n",
    "from tensorflow.keras.models import load_model\n",
    "from keras.applications.vgg16 import preprocess_input\n",
    "import numpy as np\n",
    "from sklearn.preprocessing.label import LabelEncoder\n",
    "import pickle\n",
    "\n",
    "svc = SVC(C=10, gamma=0.0001, kernel=\"rbf\",probability=True) # PUT THE PARAMETER FROM GRIDSEARCH WHILE TRAINING BEFORE\n",
    "triplet_model = 'best_model_triplet5.hdf5'\n",
    "\n",
    "model = load_model(triplet_model,compile=False)\n",
    "\n",
    "x_embedding = pickle.loads(open('x_embed.pickle','rb').read())\n",
    "y_embedding = pickle.loads(open('y_embed.pickle','rb').read())\n",
    "le = pickle.loads(open('le.pickle', \"rb\").read())\n",
    "\n",
    "svc.fit(x_embedding, y_embedding)\n",
    "\n",
    "with open(\"recognizer.pikle\", \"wb\") as h:\n",
    "    pickle.dump(svc, h)\n",
    "svm = pickle.loads(open('recognizer.pikle', \"rb\").read())\n"
   ]
  },
  {
   "cell_type": "code",
   "execution_count": null,
   "metadata": {},
   "outputs": [],
   "source": [
    "x_embedding[0].shape"
   ]
  },
  {
   "cell_type": "markdown",
   "metadata": {},
   "source": [
    "# Predict from image"
   ]
  },
  {
   "cell_type": "code",
   "execution_count": 11,
   "metadata": {},
   "outputs": [
    {
     "name": "stdout",
     "output_type": "stream",
     "text": [
      "Wall time: 30 ms\n"
     ]
    },
    {
     "data": {
      "text/plain": [
       "array([2.59448898e-03, 2.15484509e-03, 9.83839895e-01, 8.99112719e-04,\n",
       "       2.96578697e-03, 2.42073665e-03, 2.39155624e-03, 2.73357860e-03])"
      ]
     },
     "execution_count": 11,
     "metadata": {},
     "output_type": "execute_result"
    }
   ],
   "source": [
    "%%time\n",
    "img_path = 'frame_13.png'\n",
    "img = image.load_img(img_path, target_size=(180, 80))\n",
    "img_data = image.img_to_array(img)\n",
    "img_data = np.expand_dims(img_data, axis=0)\n",
    "img_embeddings = model.predict(img_data)\n",
    "\n",
    "preds = svc.predict_proba(img_embeddings)[0]\n",
    "j = np.argmax(preds)\n",
    "proba = preds[j]\n",
    "name = le.classes_[j]\n",
    "preds"
   ]
  },
  {
   "cell_type": "code",
   "execution_count": 12,
   "metadata": {},
   "outputs": [
    {
     "data": {
      "text/plain": [
       "0.9838398947417463"
      ]
     },
     "execution_count": 12,
     "metadata": {},
     "output_type": "execute_result"
    }
   ],
   "source": [
    "proba"
   ]
  },
  {
   "cell_type": "code",
   "execution_count": 13,
   "metadata": {},
   "outputs": [
    {
     "data": {
      "text/plain": [
       "2"
      ]
     },
     "execution_count": 13,
     "metadata": {},
     "output_type": "execute_result"
    }
   ],
   "source": [
    "name"
   ]
  },
  {
   "cell_type": "code",
   "execution_count": 14,
   "metadata": {},
   "outputs": [
    {
     "data": {
      "text/plain": [
       "0.9838398947417463"
      ]
     },
     "execution_count": 14,
     "metadata": {},
     "output_type": "execute_result"
    }
   ],
   "source": [
    "proba"
   ]
  },
  {
   "cell_type": "code",
   "execution_count": 15,
   "metadata": {
    "scrolled": true
   },
   "outputs": [
    {
     "data": {
      "image/png": "[encoded data removed]",
      "text/plain": [
       "<PIL.Image.Image image mode=RGB size=80x180 at 0x1A223059CC0>"
      ]
     },
     "execution_count": 15,
     "metadata": {},
     "output_type": "execute_result"
    }
   ],
   "source": [
    "img"
   ]
  },
  {
   "cell_type": "code",
   "execution_count": null,
   "metadata": {},
   "outputs": [],
   "source": []
  }
 ],
 "metadata": {
  "kernelspec": {
   "display_name": "Python 3",
   "language": "python",
   "name": "python3"
  },
  "language_info": {
   "codemirror_mode": {
    "name": "ipython",
    "version": 3
   },
   "file_extension": ".py",
   "mimetype": "text/x-python",
   "name": "python",
   "nbconvert_exporter": "python",
   "pygments_lexer": "ipython3",
   "version": "3.7.0"
  }
 },
 "nbformat": 4,
 "nbformat_minor": 4
}
