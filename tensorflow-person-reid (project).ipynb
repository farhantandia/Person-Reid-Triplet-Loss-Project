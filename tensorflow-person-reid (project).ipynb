{
 "cells": [
  {
   "cell_type": "code",
   "execution_count": 1,
   "metadata": {},
   "outputs": [],
   "source": [
    "import numpy as np\n",
    "from sklearn.metrics import roc_curve\n",
    "from sklearn.neighbors import KNeighborsClassifier\n",
    "import random\n",
    "import matplotlib.patheffects as PathEffects\n",
    "from tensorflow.keras.datasets import cifar10 as cifar10\n",
    "\n",
    "## for Model definition/training\n",
    "import tensorflow as tf\n",
    "from tensorflow.keras.models import Model, load_model, Sequential\n",
    "from tensorflow.keras.layers import *\n",
    "from tensorflow.keras.optimizers import Adam, Nadam, Adadelta,SGD\n",
    "from tensorflow.keras import regularizers\n",
    "\n",
    "from tensorflow.keras.utils import plot_model\n",
    "from tensorflow.keras.callbacks import ModelCheckpoint, EarlyStopping, ReduceLROnPlateau\n",
    "from tensorflow.keras.preprocessing.image import ImageDataGenerator"
   ]
  },
  {
   "cell_type": "code",
   "execution_count": 2,
   "metadata": {},
   "outputs": [],
   "source": [
    "from sklearn.metrics import pairwise_distances\n",
    "from sklearn.manifold import TSNE\n",
    "from collections import defaultdict\n",
    "from matplotlib import pyplot as plt\n",
    "import seaborn as sns\n"
   ]
  },
  {
   "cell_type": "code",
   "execution_count": 3,
   "metadata": {},
   "outputs": [],
   "source": [
    "base_dir = 'Our Data/train/'"
   ]
  },
  {
   "cell_type": "markdown",
   "metadata": {},
   "source": [
    "# data loader"
   ]
  },
  {
   "cell_type": "code",
   "execution_count": 5,
   "metadata": {},
   "outputs": [
    {
     "name": "stdout",
     "output_type": "stream",
     "text": [
      "total id1: 23664\n",
      "total id2 : 24912\n",
      "total id3 : 15580\n",
      "total id4 : 14530\n",
      "Found 78686 images belonging to 4 classes.\n",
      "Found 0 images belonging to 4 classes.\n"
     ]
    }
   ],
   "source": [
    "import os\n",
    "\n",
    "\n",
    "id1= len(os.listdir(base_dir+'/1'))\n",
    "id2 = len(os.listdir(base_dir+'/2'))\n",
    "id3 = len(os.listdir(base_dir+'/3'))\n",
    "id4 = len(os.listdir(base_dir+'/4'))\n",
    "# id5 = len(os.listdir(base_dir+'/A'))\n",
    "# id6 = len(os.listdir(base_dir+'/B'))\n",
    "# id7=len(os.listdir(base_dir+'/C'))\n",
    "# id8=len(os.listdir(base_dir+'/D'))\n",
    "# id5 = len(os.listdir(base_dir+'/E'))\n",
    "# id6 = len(os.listdir(base_dir+'/F'))\n",
    "# id7=len(os.listdir(base_dir+'/G'))\n",
    "# id8=len(os.listdir(base_dir+'/H'))\n",
    "\n",
    "print('total id1:', id1)\n",
    "print('total id2 :',id2)\n",
    "print('total id3 :', id3)\n",
    "print('total id4 :', id4)\n",
    "# print('total id5 :', id5)\n",
    "# print('total id6 :', id6)\n",
    "# print('total id7 :', id7)\n",
    "# print('total id8 :', id8)\n",
    "\n",
    "# total_data = id1+id2+id3+id4\n",
    "# print(total_data)\n",
    "\n",
    "\n",
    "# The data, split between train and test sets\n",
    "datagen = ImageDataGenerator(\n",
    "#             rotation_range=45,\n",
    "#             horizontal_flip=True,\n",
    "#             vertical_flip=True,\n",
    "            rescale=1/255, \n",
    "#             zoom_range=1.2,\n",
    "#             validation_split=0.2\n",
    ") #Dataset dibagi menjadi 75% train set dan 25% validation set.\n",
    "\n",
    "train_generator = datagen.flow_from_directory(\n",
    "    base_dir,\n",
    "    target_size=(180, 80),\n",
    "    batch_size=100000,\n",
    "    class_mode='binary',\n",
    "    subset='training',\n",
    "    shuffle=True,\n",
    ")\n",
    "\n",
    "validation_generator = datagen.flow_from_directory(\n",
    "    base_dir,\n",
    "    target_size=(180, 80),\n",
    "    batch_size=10000,\n",
    "    class_mode='binary',\n",
    "    subset='validation',\n",
    "    shuffle=True\n",
    ")"
   ]
  },
  {
   "cell_type": "code",
   "execution_count": null,
   "metadata": {},
   "outputs": [],
   "source": [
    "from keras.utils.data_utils import Sequence\n",
    "from imblearn.over_sampling import RandomOverSampler\n",
    "from imblearn.under_sampling import RandomUnderSampler\n",
    "from imblearn.tensorflow import balanced_batch_generator\n",
    "from tensorflow.keras.preprocessing.image import ImageDataGenerator\n",
    "\n",
    "x_train, y_train = next(train_generator)\n",
    "# x_test, y_test = next(validation_generator)\n",
    "# x_train = x_train.astype('float32')\n",
    "# x_test = x_test.astype('float32')\n",
    "# y_train = y_train.astype('uint8')\n",
    "# y_test = y_test.astype('uint8')\n",
    "# # x_train /= 255.\n",
    "# # x_test /= 255.\n",
    "# input_image_shape = (x_train.shape[1], x_train.shape[2], 3)\n",
    "# x_val = x_test\n",
    "# y_val = y_test"
   ]
  },
  {
   "cell_type": "code",
   "execution_count": null,
   "metadata": {},
   "outputs": [],
   "source": [
    "x_train = x_train.reshape(22,3*224*224)"
   ]
  },
  {
   "cell_type": "code",
   "execution_count": 24,
   "metadata": {},
   "outputs": [],
   "source": []
  },
  {
   "cell_type": "code",
   "execution_count": 25,
   "metadata": {},
   "outputs": [
    {
     "data": {
      "text/plain": [
       "(45292, 43200)"
      ]
     },
     "execution_count": 25,
     "metadata": {},
     "output_type": "execute_result"
    }
   ],
   "source": [
    "x_train.shape"
   ]
  },
  {
   "cell_type": "code",
   "execution_count": 26,
   "metadata": {},
   "outputs": [],
   "source": [
    "# from sklearn.model_selection import train_test_split\n",
    "# # define undersample strategy\n",
    "# undersample = RandomUnderSampler(sampling_strategy='majority')\n",
    "# # fit and apply the transform\n",
    "# x_train, y_train = undersample.fit_resample(x, y_train)\n",
    "# x_train, x_val, y_train, y_val = train_test_split(x_train, y_train, test_size=0.2, random_state=42)\n",
    "# x_val = x_test\n",
    "# y_val = y_test"
   ]
  },
  {
   "cell_type": "markdown",
   "metadata": {},
   "source": [
    "## Balanced Data Generator"
   ]
  },
  {
   "cell_type": "code",
   "execution_count": 6,
   "metadata": {},
   "outputs": [],
   "source": [
    "from keras.utils.data_utils import Sequence\n",
    "from imblearn.over_sampling import RandomOverSampler\n",
    "from imblearn.tensorflow import balanced_batch_generator\n",
    "from tensorflow.keras.preprocessing.image import ImageDataGenerator\n",
    "\n",
    "datagen = ImageDataGenerator(horizontal_flip=True,rotation_range=10,brightness_range=[0.2,1.0])\n",
    "class BalancedDataGenerator(Sequence):\n",
    "    \"\"\"ImageDataGenerator + RandomOversampling\"\"\"\n",
    "    def __init__(self, x, y, datagen, batch_size=32):\n",
    "        self.datagen = datagen\n",
    "        self.batch_size = min(batch_size, x.shape[0])\n",
    "        datagen.fit(x)\n",
    "        self.gen, self.steps_per_epoch = balanced_batch_generator(x.reshape(x.shape[0], -1), y, sampler=RandomOverSampler(), batch_size=self.batch_size, keep_sparse=True)\n",
    "        self._shape = (self.steps_per_epoch * batch_size, *x.shape[1:])\n",
    "        \n",
    "    def __len__(self):\n",
    "        return self.steps_per_epoch\n",
    "\n",
    "    def __getitem__(self, idx):\n",
    "        x_batch, y_batch = self.gen.__next__()\n",
    "        x_batch = x_batch.reshape(-1, *self._shape[1:])\n",
    "        return self.datagen.flow(x_batch, y_batch, batch_size=self.batch_size).next()"
   ]
  },
  {
   "cell_type": "code",
   "execution_count": 7,
   "metadata": {},
   "outputs": [],
   "source": [
    "\n",
    "balanced_gen = BalancedDataGenerator(x_train, y_train, datagen, batch_size=32)\n",
    "balanced_gen_val = BalancedDataGenerator(x_val, y_val, datagen, batch_size=32)\n",
    "steps_per_epoch = balanced_gen.steps_per_epoch"
   ]
  },
  {
   "cell_type": "markdown",
   "metadata": {},
   "source": [
    "# MODEL"
   ]
  },
  {
   "cell_type": "code",
   "execution_count": 8,
   "metadata": {},
   "outputs": [],
   "source": [
    "\n",
    "import tensorflow_addons as tfa\n",
    "\n",
    "from tensorflow.keras.applications.efficientnet import EfficientNetB3\n",
    "\n",
    "def create_model(image_input_shape,embedding_size):\n",
    "\n",
    "    decay = 0.000001\n",
    "    input_image = tf.keras.layers.Input(shape=image_input_shape)\n",
    "\n",
    "#     x = Conv2D(16,(3,3),padding='same', activation='relu',kernel_regularizer=regularizers.l2(decay),\n",
    "#                 activity_regularizer=regularizers.l2(decay))(input_image)\n",
    "#     x = BatchNormalization()(x)\n",
    "#     x = MaxPool2D(pool_size=(2, 2))(x)\n",
    "#     x = Conv2D(16,(3,3),padding='same', activation='relu',kernel_regularizer=regularizers.l2(decay),\n",
    "#                 activity_regularizer=regularizers.l2(decay))(x)\n",
    "#     x = BatchNormalization()(x)\n",
    "#     x = MaxPool2D(pool_size=(2, 2))(x)\n",
    "    x = Conv2D(32,(3,3),padding='same', activation='relu')(input_image)\n",
    "    x = MaxPool2D(pool_size=(2, 2))(x)\n",
    "    x = Conv2D(32,(3,3),padding='same', activation='relu')(x)\n",
    "    x = BatchNormalization()(x)\n",
    "    x = MaxPool2D(pool_size=(2, 2))(x)\n",
    "    x = Conv2D(32,(5,5),padding='same', activation='relu')(x)\n",
    "    x = MaxPool2D(pool_size=(2, 2))(x)\n",
    "    x = Conv2D(32,(5,5),padding='same', activation='relu')(x)\n",
    "    x = BatchNormalization()(x)\n",
    "    x = MaxPool2D(pool_size=(2, 2))(x)\n",
    "    x = Conv2D(64,(3,3),padding='same', activation='relu')(x)\n",
    "    x = MaxPool2D(pool_size=(2, 2))(x)\n",
    "    x = Conv2D(64,(3,3),padding='same', activation='relu')(x)\n",
    "    x = BatchNormalization()(x)\n",
    "    x = MaxPool2D(pool_size=(2, 2))(x)\n",
    "    x = GlobalAveragePooling2D()(x)\n",
    "    x = Dropout(0.2)(x)\n",
    "    \n",
    "    x = Flatten()(x)\n",
    "    x = Dense(256, activation='selu')(x)\n",
    "    x = Dropout(0.1)(x)\n",
    "    x = Dense(embedding_size)(x)\n",
    "    \n",
    "#     x = Dense(8, activation=\"softmax\")(x)\n",
    "#     x = tf.math.l2_normalize(x, axis=1)\n",
    "    \n",
    "    return tf.keras.models.Model(inputs=input_image, outputs=x)         "
   ]
  },
  {
   "cell_type": "code",
   "execution_count": 9,
   "metadata": {},
   "outputs": [],
   "source": [
    "\n",
    "embedding_size =128"
   ]
  },
  {
   "cell_type": "code",
   "execution_count": 10,
   "metadata": {},
   "outputs": [
    {
     "name": "stdout",
     "output_type": "stream",
     "text": [
      "Model: \"functional_1\"\n",
      "_________________________________________________________________\n",
      "Layer (type)                 Output Shape              Param #   \n",
      "=================================================================\n",
      "input_1 (InputLayer)         [(None, 180, 80, 3)]      0         \n",
      "_________________________________________________________________\n",
      "conv2d (Conv2D)              (None, 180, 80, 32)       896       \n",
      "_________________________________________________________________\n",
      "max_pooling2d (MaxPooling2D) (None, 90, 40, 32)        0         \n",
      "_________________________________________________________________\n",
      "conv2d_1 (Conv2D)            (None, 90, 40, 32)        9248      \n",
      "_________________________________________________________________\n",
      "batch_normalization (BatchNo (None, 90, 40, 32)        128       \n",
      "_________________________________________________________________\n",
      "max_pooling2d_1 (MaxPooling2 (None, 45, 20, 32)        0         \n",
      "_________________________________________________________________\n",
      "conv2d_2 (Conv2D)            (None, 45, 20, 32)        25632     \n",
      "_________________________________________________________________\n",
      "max_pooling2d_2 (MaxPooling2 (None, 22, 10, 32)        0         \n",
      "_________________________________________________________________\n",
      "conv2d_3 (Conv2D)            (None, 22, 10, 32)        25632     \n",
      "_________________________________________________________________\n",
      "batch_normalization_1 (Batch (None, 22, 10, 32)        128       \n",
      "_________________________________________________________________\n",
      "max_pooling2d_3 (MaxPooling2 (None, 11, 5, 32)         0         \n",
      "_________________________________________________________________\n",
      "conv2d_4 (Conv2D)            (None, 11, 5, 64)         18496     \n",
      "_________________________________________________________________\n",
      "max_pooling2d_4 (MaxPooling2 (None, 5, 2, 64)          0         \n",
      "_________________________________________________________________\n",
      "conv2d_5 (Conv2D)            (None, 5, 2, 64)          36928     \n",
      "_________________________________________________________________\n",
      "batch_normalization_2 (Batch (None, 5, 2, 64)          256       \n",
      "_________________________________________________________________\n",
      "max_pooling2d_5 (MaxPooling2 (None, 2, 1, 64)          0         \n",
      "_________________________________________________________________\n",
      "global_average_pooling2d (Gl (None, 64)                0         \n",
      "_________________________________________________________________\n",
      "dropout (Dropout)            (None, 64)                0         \n",
      "_________________________________________________________________\n",
      "flatten (Flatten)            (None, 64)                0         \n",
      "_________________________________________________________________\n",
      "dense (Dense)                (None, 256)               16640     \n",
      "_________________________________________________________________\n",
      "dropout_1 (Dropout)          (None, 256)               0         \n",
      "_________________________________________________________________\n",
      "dense_1 (Dense)              (None, 128)               32896     \n",
      "=================================================================\n",
      "Total params: 166,880\n",
      "Trainable params: 166,624\n",
      "Non-trainable params: 256\n",
      "_________________________________________________________________\n"
     ]
    }
   ],
   "source": [
    "\n",
    "model = create_model(input_image_shape,embedding_size)\n",
    "model.compile(loss=tfa.losses.triplet_semihard_loss, optimizer=Adam(0.001))\n",
    "# model.compile(loss='sparse_categorical_crossentropy', optimizer=Adam(lr=0.001),metrics=['accuracy'])\n",
    "model.summary()"
   ]
  },
  {
   "cell_type": "markdown",
   "metadata": {},
   "source": [
    "# START TRAINING"
   ]
  },
  {
   "cell_type": "code",
   "execution_count": 13,
   "metadata": {
    "scrolled": true
   },
   "outputs": [
    {
     "name": "stdout",
     "output_type": "stream",
     "text": [
      "WARNING:tensorflow:From <ipython-input-13-3d925f3993bb>:19: Model.fit_generator (from tensorflow.python.keras.engine.training) is deprecated and will be removed in a future version.\n",
      "Instructions for updating:\n",
      "Please use Model.fit, which supports generators.\n",
      "Epoch 1/200\n",
      "85/85 [==============================] - ETA: 0s - loss: 0.1457\n",
      "Epoch 00001: val_loss did not improve from inf\n",
      "85/85 [==============================] - 9s 102ms/step - loss: 0.1457 - val_loss: nan\n",
      "Epoch 2/200\n",
      "85/85 [==============================] - ETA: 0s - loss: 0.1172\n",
      "Epoch 00002: val_loss improved from inf to 0.14316, saving model to all-triplet.hdf5\n",
      "85/85 [==============================] - 8s 97ms/step - loss: 0.1172 - val_loss: 0.1432\n",
      "Epoch 3/200\n",
      "85/85 [==============================] - ETA: 0s - loss: 0.1095\n",
      "Epoch 00003: val_loss did not improve from 0.14316\n",
      "85/85 [==============================] - 8s 96ms/step - loss: 0.1095 - val_loss: nan\n",
      "Epoch 4/200\n",
      "85/85 [==============================] - ETA: 0s - loss: 0.0802\n",
      "Epoch 00004: val_loss did not improve from 0.14316\n",
      "85/85 [==============================] - 8s 99ms/step - loss: 0.0802 - val_loss: nan\n",
      "Epoch 5/200\n",
      "85/85 [==============================] - ETA: 0s - loss: 0.0996- ETA: 0s - los\n",
      "Epoch 00005: val_loss did not improve from 0.14316\n",
      "85/85 [==============================] - 8s 99ms/step - loss: 0.0996 - val_loss: nan\n",
      "Epoch 6/200\n",
      "85/85 [==============================] - ETA: 0s - loss: 0.0728\n",
      "Epoch 00006: val_loss did not improve from 0.14316\n",
      "85/85 [==============================] - 8s 98ms/step - loss: 0.0728 - val_loss: nan\n",
      "Epoch 7/200\n",
      "85/85 [==============================] - ETA: 0s - loss: 0.0688\n",
      "Epoch 00007: val_loss did not improve from 0.14316\n",
      "85/85 [==============================] - 8s 97ms/step - loss: 0.0688 - val_loss: nan\n"
     ]
    }
   ],
   "source": [
    "filepath = 'all-triplet.hdf5'\n",
    "\n",
    "checkpoint = ModelCheckpoint(filepath=filepath,\n",
    "                             monitor='val_loss',\n",
    "                             verbose=1,\n",
    "                             save_best_only=True)\n",
    "\n",
    "stop = EarlyStopping(monitor='val_loss', patience =5,\n",
    "                      verbose=0, mode='auto', baseline=None, \n",
    "                      restore_best_weights=False)\n",
    "reduce_lr = ReduceLROnPlateau(monitor='val_loss', factor=0.6,\n",
    "                              patience=3, min_lr=0.000001)\n",
    "callbacks = [checkpoint,stop,reduce_lr]\n",
    "\n",
    "# history = model.fit(x_train, y_train, validation_data=(x_test, y_test),\n",
    "#           epochs=500,shuffle=True,\n",
    "#           batch_size=32,callbacks=callbacks)\n",
    "history = model.fit_generator(balanced_gen, steps_per_epoch, class_weight=None,validation_data=balanced_gen_val,epochs=200,shuffle=True,\n",
    "          callbacks=callbacks)"
   ]
  },
  {
   "cell_type": "code",
   "execution_count": null,
   "metadata": {},
   "outputs": [],
   "source": [
    "# fig, ((ax1, ax2)) = plt.subplots(nrows=1, ncols=2,figsize=(20,6))\n",
    "\n",
    "# ax1.plot(history.history['accuracy'],'b', history.history['val_accuracy'], 'r')\n",
    "# ax1.set_ylabel('Accuracy Rate',fontsize=12)\n",
    "# ax1.set_xlabel('Iteration',fontsize=12)\n",
    "# ax1.set_title('Categorical Cross Entropy ',fontsize=14)\n",
    "# ax1.legend(['Training Accuracy','Validation Accuracy'],fontsize=12,loc='best')\n",
    "\n",
    "# ax2.plot(history.history['loss'], 'b',history.history['val_loss'],'r')\n",
    "# ax2.set_ylabel('Loss',fontsize=12)\n",
    "# ax2.set_xlabel('Iteration',fontsize=12)\n",
    "# ax2.set_title('Learning Curve ',fontsize=14)\n",
    "# ax2.legend(['Training Loss','Validation Loss'],fontsize=12,loc='best')\n",
    "\n",
    "# # plt.savefig('crosse_results.png')\n",
    "# plt.show()"
   ]
  },
  {
   "cell_type": "code",
   "execution_count": null,
   "metadata": {},
   "outputs": [],
   "source": []
  },
  {
   "cell_type": "code",
   "execution_count": 11,
   "metadata": {},
   "outputs": [
    {
     "data": {
      "image/png": "[encoded data removed]",
      "text/plain": [
       "<Figure size 432x288 with 1 Axes>"
      ]
     },
     "metadata": {
      "needs_background": "light"
     },
     "output_type": "display_data"
    }
   ],
   "source": [
    "# plt.figure(figsize=(8,8))\n",
    "plt.plot(history.history['loss'], label='training loss')\n",
    "plt.plot(history.history['val_loss'], label='validation loss')\n",
    "plt.legend()\n",
    "plt.title('Model loss')\n",
    "plt.show() "
   ]
  },
  {
   "cell_type": "code",
   "execution_count": null,
   "metadata": {},
   "outputs": [],
   "source": [
    "\n",
    "# model.save('saved_model/my_model') "
   ]
  },
  {
   "cell_type": "code",
   "execution_count": null,
   "metadata": {
    "scrolled": true
   },
   "outputs": [],
   "source": [
    "plot_model(model, to_file='model_plot.png', show_shapes=True, show_layer_names=True)"
   ]
  },
  {
   "cell_type": "markdown",
   "metadata": {},
   "source": [
    "# Embeddings Visualization"
   ]
  },
  {
   "cell_type": "code",
   "execution_count": 12,
   "metadata": {},
   "outputs": [],
   "source": [
    "#create an empty network\n",
    "testing_embeddings2 = create_model(input_image_shape,128)\n",
    "x_embeddings_before_train = testing_embeddings2.predict(np.reshape(x_test, (len(x_test), x_train.shape[1], x_train.shape[2],3)))\n",
    "\n",
    "# for layer_target, layer_source in zip(testing_embeddings.layers, model.layers):\n",
    "#     weights = layer_source.get_weights()\n",
    "#     layer_target.set_weights(weights)\n",
    "#     del weights"
   ]
  },
  {
   "cell_type": "code",
   "execution_count": 13,
   "metadata": {},
   "outputs": [
    {
     "name": "stderr",
     "output_type": "stream",
     "text": [
      "C:\\Users\\farha\\anaconda3\\envs\\kaggle\\lib\\site-packages\\ipykernel_launcher.py:25: MatplotlibDeprecationWarning: Adding an axes using the same arguments as a previous axes currently reuses the earlier instance.  In a future version, a new instance will always be created and returned.  Meanwhile, this warning can be suppressed, and the future behavior ensured, by passing a unique label to each axes instance.\n",
      "C:\\Users\\farha\\anaconda3\\envs\\kaggle\\lib\\site-packages\\ipykernel_launcher.py:30: MatplotlibDeprecationWarning: Adding an axes using the same arguments as a previous axes currently reuses the earlier instance.  In a future version, a new instance will always be created and returned.  Meanwhile, this warning can be suppressed, and the future behavior ensured, by passing a unique label to each axes instance.\n"
     ]
    },
    {
     "data": {
      "image/png": "[encoded data removed]",
      "text/plain": [
       "<Figure size 1152x576 with 2 Axes>"
      ]
     },
     "metadata": {
      "needs_background": "light"
     },
     "output_type": "display_data"
    }
   ],
   "source": [
    "from sklearn.metrics import pairwise_distances\n",
    "from sklearn.manifold import TSNE\n",
    "no_of_components = 2  # for visualization -> PCA.fit_transform()\n",
    "\n",
    "step = 1\n",
    "test_class_labels = np.unique(np.array(y_test))\n",
    "model = create_model(input_image_shape,128)\n",
    "\n",
    "model.load_weights(\"yt-triplet.hdf5\")\n",
    "# model = load_model(\"our_model_triplet_all.hdf5\")\n",
    "epochs = 100000\n",
    "x_embeddings_before_train = testing_embeddings2.predict(np.reshape(x_test, (len(x_test), x_train.shape[1], x_train.shape[2],3)))\n",
    "\n",
    "x_embeddings = model.predict(np.reshape(x_test, (len(x_test), x_train.shape[1], x_train.shape[2],3)))\n",
    "pca = TSNE(n_components=2)\n",
    "decomposed_embeddings = pca.fit_transform(x_embeddings)\n",
    "\n",
    "decomposed_gray = pca.fit_transform(x_embeddings_before_train)\n",
    "\n",
    "fig = plt.figure(figsize=(16, 8))\n",
    "for label in test_class_labels:\n",
    "    decomposed_embeddings_class = decomposed_embeddings[y_test == label]\n",
    "    decomposed_gray_class = decomposed_gray[y_test == label]\n",
    "\n",
    "    plt.subplot(1,2,1)\n",
    "    plt.scatter(decomposed_gray_class[::step,1], decomposed_gray_class[::step,0],label=str(label))\n",
    "    plt.title('before training (embeddings)')\n",
    "    plt.legend()\n",
    "\n",
    "    plt.subplot(1,2,2)\n",
    "    plt.scatter(decomposed_embeddings_class[::step, 1], decomposed_embeddings_class[::step, 0], label=str(label))\n",
    "    plt.title('after @%d epochs' % epochs)\n",
    "    plt.legend()\n",
    "\n",
    "plt.show()"
   ]
  },
  {
   "cell_type": "code",
   "execution_count": null,
   "metadata": {},
   "outputs": [],
   "source": []
  },
  {
   "cell_type": "markdown",
   "metadata": {},
   "source": [
    "# CLASSIFIER"
   ]
  },
  {
   "cell_type": "code",
   "execution_count": 28,
   "metadata": {},
   "outputs": [],
   "source": [
    "from tensorflow.keras.preprocessing import image\n",
    "\n",
    "model = load_model('yt-triplet.hdf5',compile=False)"
   ]
  },
  {
   "cell_type": "code",
   "execution_count": null,
   "metadata": {},
   "outputs": [],
   "source": [
    "svc"
   ]
  },
  {
   "cell_type": "code",
   "execution_count": 22,
   "metadata": {
    "scrolled": true
   },
   "outputs": [
    {
     "name": "stdout",
     "output_type": "stream",
     "text": [
      "validation accuracy :  0.9685658153241651\n"
     ]
    }
   ],
   "source": [
    "from sklearn.svm import SVC\n",
    "from sklearn.metrics import accuracy_score\n",
    "from sklearn.model_selection import GridSearchCV\n",
    "from sklearn.metrics import classification_report, confusion_matrix \n",
    "import pickle\n",
    "from sklearn.preprocessing import LabelEncoder\n",
    "import numpy as np  \n",
    "from sklearn.svm import SVC  \n",
    "embedding_size =128\n",
    "\n",
    "x_embeddings = model.predict(x_train)\n",
    "y_embeddings = model.predict(x_val)\n",
    "\n",
    "svc = SVC(kernel=\"linear\",probability=True)\n",
    "# param_grid = {'C': [0.1, 10, 100], 'gamma': [0.1,0.01,0.001],'kernel': ['rbf']}\n",
    "# grid = GridSearchCV(svc,param_grid,refit=True,verbose=3)\n",
    "\n",
    "le=LabelEncoder()\n",
    "labels = le.fit_transform(y_train)\n",
    "svc.fit(x_embeddings,labels)\n",
    "valid_prediction = svc.predict(y_embeddings)\n",
    "print(\"validation accuracy : \", accuracy_score(y_val, valid_prediction))\n",
    "\n",
    "# with open(\"recognizer.pikle\", \"wb\") as h:\n",
    "#     pickle.dump(grid.best_estimator_, h)"
   ]
  },
  {
   "cell_type": "code",
   "execution_count": 23,
   "metadata": {},
   "outputs": [
    {
     "name": "stdout",
     "output_type": "stream",
     "text": [
      "              precision    recall  f1-score   support\n",
      "\n",
      "           0       0.98      0.95      0.97        63\n",
      "           1       0.93      0.98      0.96        65\n",
      "           2       1.00      0.98      0.99        66\n",
      "           3       1.00      1.00      1.00        63\n",
      "           4       0.89      0.97      0.93        66\n",
      "           5       0.97      1.00      0.99        66\n",
      "           6       1.00      1.00      1.00        56\n",
      "           7       1.00      0.86      0.92        64\n",
      "\n",
      "    accuracy                           0.97       509\n",
      "   macro avg       0.97      0.97      0.97       509\n",
      "weighted avg       0.97      0.97      0.97       509\n",
      "\n"
     ]
    }
   ],
   "source": [
    "print(classification_report(y_val, valid_prediction)) "
   ]
  },
  {
   "cell_type": "markdown",
   "metadata": {},
   "source": [
    "# Save the embeddings and its label"
   ]
  },
  {
   "cell_type": "code",
   "execution_count": 39,
   "metadata": {},
   "outputs": [],
   "source": [
    "with open(\"recognizer.pikle\", \"wb\") as h:\n",
    "    pickle.dump(svc, h)"
   ]
  },
  {
   "cell_type": "code",
   "execution_count": 40,
   "metadata": {},
   "outputs": [],
   "source": [
    "from sklearn.preprocessing import LabelEncoder\n",
    "le = LabelEncoder()\n",
    "labels = le.fit_transform(y_train)\n",
    "# write the label encoder to disk\n",
    "f = open(\"le.pickle\", \"wb\")\n",
    "f.write(pickle.dumps(le))\n",
    "f.close()"
   ]
  },
  {
   "cell_type": "code",
   "execution_count": null,
   "metadata": {},
   "outputs": [],
   "source": [
    "img_path = 'frame_42.png'\n",
    "img = image.load_img(img_path, target_size=(180, 80))\n",
    "img_data = image.img_to_array(img)\n",
    "img_data = np.expand_dims(img_data, axis=0)\n",
    "img_embeddings = model.predict(img_data)\n",
    "\n",
    "preds = svc.predict_proba(img_embeddings)[0]\n",
    "j = np.argmax(preds)\n",
    "proba = preds[j]\n",
    "name = le.classes_[j]\n",
    "preds"
   ]
  },
  {
   "cell_type": "code",
   "execution_count": null,
   "metadata": {},
   "outputs": [],
   "source": [
    "name"
   ]
  },
  {
   "cell_type": "code",
   "execution_count": null,
   "metadata": {},
   "outputs": [],
   "source": [
    "\n",
    "valid_prediction = grid.predict(y_embeddings)"
   ]
  },
  {
   "cell_type": "code",
   "execution_count": null,
   "metadata": {},
   "outputs": [],
   "source": [
    "# print best parameter after tuning \n",
    "print(grid.best_params_) \n",
    "  \n",
    "# print how our model looks after hyper-parameter tuning \n",
    "print(grid.best_estimator_) "
   ]
  },
  {
   "cell_type": "code",
   "execution_count": null,
   "metadata": {},
   "outputs": [],
   "source": [
    "\n",
    "# import pickle\n",
    "\n",
    "from sklearn.preprocessing import LabelEncoder\n",
    "le = LabelEncoder()\n",
    "labels = le.fit_transform(y_train)\n",
    "# write the label encoder to disk\n",
    "f = open(\"le.pickle\", \"wb\")\n",
    "f.write(pickle.dumps(le))\n",
    "f.close()\n",
    "# write the actual face recognition model to disk\n",
    "f = open(\"x_embed.pickle\", \"wb\")\n",
    "f.write(pickle.dumps(x_embeddings))\n",
    "f.close()\n",
    "# write the actual face recognition model to disk\n",
    "f = open(\"y_embed.pickle\", \"wb\")\n",
    "f.write(pickle.dumps(labels))\n",
    "f.close()\n",
    "# write the label encoder to disk\n",
    "f = open(\"le.pickle\", \"wb\")\n",
    "f.write(pickle.dumps(le))\n",
    "f.close()"
   ]
  },
  {
   "cell_type": "code",
   "execution_count": null,
   "metadata": {},
   "outputs": [],
   "source": []
  }
 ],
 "metadata": {
  "kernelspec": {
   "display_name": "kaggle",
   "language": "python",
   "name": "kaggle"
  },
  "language_info": {
   "codemirror_mode": {
    "name": "ipython",
    "version": 3
   },
   "file_extension": ".py",
   "mimetype": "text/x-python",
   "name": "python",
   "nbconvert_exporter": "python",
   "pygments_lexer": "ipython3",
   "version": "3.7.0"
  }
 },
 "nbformat": 4,
 "nbformat_minor": 4
}
